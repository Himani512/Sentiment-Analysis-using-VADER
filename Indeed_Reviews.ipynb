{
 "cells": [
  {
   "cell_type": "markdown",
   "id": "f32aea5d",
   "metadata": {},
   "source": [
    "This is the first step in order to perform sentiment analysis on Walmart company reviews.\n",
    "\n",
    "We are using BeautifulSoup library to scrape Walmart company reviews and ratings from Indeed. To limit the sample data, it is been filtered for Bentonville, AR location. The data is then saved as a DataFrame in Pandas before downloading it as .csv file."
   ]
  },
  {
   "cell_type": "code",
   "execution_count": 35,
   "id": "3312c0ac",
   "metadata": {},
   "outputs": [
    {
     "name": "stdout",
     "output_type": "stream",
     "text": [
      "                                                  0                        1  \\\n",
      "0   Building Controls Specialist (Former Employee)    Bentonville, AR 72716    \n",
      "1         Compliance Coordinator (Former Employee)          Bentonville, AR    \n",
      "2              Forklift Operator (Former Employee)          Bentonville, AR    \n",
      "3              Forklift Operator (Former Employee)          Bentonville, AR    \n",
      "4                          Mgr. (Current Employee)          Bentonville, AR    \n",
      "5                          Mgr. (Current Employee)          Bentonville, AR    \n",
      "6             Software Engineer (Current Employee)          Bentonville, AR    \n",
      "7                Sr. Manager II (Current Employee)          Bentonville, AR    \n",
      "8          Software Engineer II (Current Employee)          Bentonville, AR    \n",
      "9            Walmart Supercenter (Former Employee)          Bentonville, AR    \n",
      "10            Associate Merchant (Former Employee)          Bentonville, AR    \n",
      "11            Associate Merchant (Former Employee)          Bentonville, AR    \n",
      "12            Associate Merchant (Former Employee)          Bentonville, AR    \n",
      "13            IT Project Manager (Former Employee)          Bentonville, AR    \n",
      "14            IT Project Manager (Former Employee)          Bentonville, AR    \n",
      "15                       Cashier (Former Employee)          Bentonville, AR    \n",
      "16                       Cashier (Former Employee)          Bentonville, AR    \n",
      "17         Resolution Specialist (Former Employee)          Bentonville, AR    \n",
      "18                 Order Filler (Current Employee)          Bentonville, AR    \n",
      "19                 Order Filler (Current Employee)          Bentonville, AR    \n",
      "20                 Specialist V (Current Employee)               Homeoffice    \n",
      "\n",
      "                  2                   3  \n",
      "0    March 13, 2017                None  \n",
      "1     April 5, 2022                None  \n",
      "2    March 30, 2022                None  \n",
      "3    March 30, 2022                None  \n",
      "4    March 25, 2022                None  \n",
      "5    March 25, 2022                None  \n",
      "6    March 24, 2022                None  \n",
      "7    March 23, 2022                None  \n",
      "8    March 13, 2022                None  \n",
      "9    March 10, 2022                None  \n",
      "10    March 7, 2022                None  \n",
      "11    March 7, 2022                None  \n",
      "12    March 7, 2022                None  \n",
      "13    March 4, 2022                None  \n",
      "14    March 4, 2022                None  \n",
      "15    March 2, 2022                None  \n",
      "16    March 2, 2022                None  \n",
      "17    March 2, 2022                None  \n",
      "18    March 1, 2022                None  \n",
      "19    March 1, 2022                None  \n",
      "20    Bentonville     February 22, 2022  \n"
     ]
    }
   ],
   "source": [
    "import requests as r\n",
    "from bs4 import BeautifulSoup as b\n",
    "import pandas as p\n",
    "\n",
    "df = p.DataFrame({'Summary': [], 'Review': [], 'Rating':[]})\n",
    "\n",
    "#Scraping data using BeautifulSoup and saving it to a .csv file\n",
    "for i in range(0,1980,20):\n",
    "    url = (f'https://www.indeed.com/cmp/Walmart/reviews?fcountry=US&floc=Bentonville%2C+AR&start={i}')\n",
    "    header = {\"User-Agent\":\"Mozilla/5.0 Gecko/20100101 Firefox/33.0 GoogleChrome/10.0\"}\n",
    "    pages = r.get(url,headers = header)\n",
    "    soup = b(pages.content,'lxml')\n",
    "    results = soup.find('div', attrs = { 'id' : 'cmp-container'})\n",
    "    elements = results.find_all('div', attrs = { 'itemprop': 'review'})\n",
    "    \n",
    "    for elem in elements:\n",
    "        titleDiv  = elem.find('div', attrs = {'class':'css-e6s05i eu4oa1w0'})\n",
    "        title    =  titleDiv.find('h2', attrs = {'data-testid': 'title'})\n",
    "        reviewBody = elem.find('div', attrs = {'data-tn-component': 'reviewDescription'})\n",
    "        rating  = elem.find('div', attrs = {'itemprop':'reviewRating'})\n",
    "        df = df.append({'Summary': title.text, 'Review':reviewBody.text, 'Rating':rating.text,},\n",
    "                       ignore_index=True)\n",
    "df.to_csv(Walmart_Indeed.csv)\n",
    "    \n"
   ]
  },
  {
   "cell_type": "code",
   "execution_count": null,
   "id": "4f80f528",
   "metadata": {},
   "outputs": [],
   "source": []
  },
  {
   "cell_type": "code",
   "execution_count": null,
   "id": "4b9f5650",
   "metadata": {},
   "outputs": [],
   "source": []
  },
  {
   "cell_type": "code",
   "execution_count": null,
   "id": "acfe60b0",
   "metadata": {},
   "outputs": [],
   "source": []
  }
 ],
 "metadata": {
  "kernelspec": {
   "display_name": "Python 3",
   "language": "python",
   "name": "python3"
  },
  "language_info": {
   "codemirror_mode": {
    "name": "ipython",
    "version": 3
   },
   "file_extension": ".py",
   "mimetype": "text/x-python",
   "name": "python",
   "nbconvert_exporter": "python",
   "pygments_lexer": "ipython3",
   "version": "3.8.8"
  }
 },
 "nbformat": 4,
 "nbformat_minor": 5
}
